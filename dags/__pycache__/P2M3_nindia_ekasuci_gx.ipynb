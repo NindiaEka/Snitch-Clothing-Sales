{
 "cells": [
  {
   "cell_type": "markdown",
   "id": "52e98fe4",
   "metadata": {},
   "source": [
    "# Introduction\n",
    "\n",
    "Nama : Nindia Ekasuci Larasati\n",
    "\n",
    "Batch : HCK - 030\n",
    "\n",
    "**Objektif**:\n",
    "\n",
    "Great Expectations (GX) bertujuan untuk memastikan bahwa data yang digunakan memiliki kualitas yang baik, konsisten, dan dapat dipercaya. GX bekerja dengan melakukan validasi otomatis terhadap data, seperti mengecek format, nilai yang hilang, maupun anomali, sehingga potensi kesalahan dapat terdeteksi lebih awal sebelum data dipakai lebih lanjut. Dengan demikian, GX membantu tim data menjaga keandalan pipeline, meningkatkan akurasi hasil analisis, serta mengurangi risiko pengambilan keputusan yang salah akibat data yang tidak valid."
   ]
  },
  {
   "cell_type": "markdown",
   "id": "1fd2b715",
   "metadata": {},
   "source": [
    "# Import Libraries"
   ]
  },
  {
   "cell_type": "code",
   "execution_count": null,
   "id": "b46efaa6",
   "metadata": {},
   "outputs": [],
   "source": [
    "import pandas as pd\n",
    "from great_expectations.data_context import get_context"
   ]
  },
  {
   "cell_type": "markdown",
   "id": "433daebe",
   "metadata": {},
   "source": [
    "# Data Loading\n",
    "\n",
    "Dilakukan data loading dengan data csv hasil dari proses ETL dengan menggunakan ElasticSearch. Sebelum masuk ke expetations perlu dilakukan pengecekan data ulang untuk melihat apakah format data sudah benar atau belum. "
   ]
  },
  {
   "cell_type": "code",
   "execution_count": 2,
   "id": "ad7bf8b1",
   "metadata": {},
   "outputs": [],
   "source": [
    "# Load dataset\n",
    "# Memakai parse_dates agar kolom 'order_date' langsung dibaca sebagai datetime\n",
    "df = pd.read_csv(r\"C:\\Users\\User\\New_folder\\P2\\p2-ftds030-hck-m3-NindiaEka\\dags\\P2M3_nindia_ekasuci_data_transformed.csv\", parse_dates=['order_date'])"
   ]
  },
  {
   "cell_type": "code",
   "execution_count": 3,
   "id": "0680e58f",
   "metadata": {},
   "outputs": [
    {
     "name": "stdout",
     "output_type": "stream",
     "text": [
      "<class 'pandas.core.frame.DataFrame'>\n",
      "RangeIndex: 1894 entries, 0 to 1893\n",
      "Data columns (total 13 columns):\n",
      " #   Column            Non-Null Count  Dtype         \n",
      "---  ------            --------------  -----         \n",
      " 0   order_id          1894 non-null   int64         \n",
      " 1   customer_name     1894 non-null   object        \n",
      " 2   product_category  1894 non-null   object        \n",
      " 3   product_name      1894 non-null   object        \n",
      " 4   units_sold        1894 non-null   float64       \n",
      " 5   unit_price        1894 non-null   float64       \n",
      " 6   discount          1894 non-null   float64       \n",
      " 7   sales_amount      1894 non-null   float64       \n",
      " 8   order_date        1894 non-null   datetime64[ns]\n",
      " 9   city              1894 non-null   object        \n",
      " 10  segment           1894 non-null   object        \n",
      " 11  profit            1894 non-null   float64       \n",
      " 12  unique_id         1894 non-null   object        \n",
      "dtypes: datetime64[ns](1), float64(5), int64(1), object(6)\n",
      "memory usage: 192.5+ KB\n"
     ]
    },
    {
     "data": {
      "text/plain": [
       "order_id            1819\n",
       "customer_name       1868\n",
       "product_category       6\n",
       "product_name          24\n",
       "units_sold             8\n",
       "unit_price           990\n",
       "discount              72\n",
       "sales_amount         143\n",
       "order_date           561\n",
       "city                   9\n",
       "segment                2\n",
       "profit              1889\n",
       "unique_id           1894\n",
       "dtype: int64"
      ]
     },
     "execution_count": 3,
     "metadata": {},
     "output_type": "execute_result"
    }
   ],
   "source": [
    "df.info()\n",
    "df.nunique()"
   ]
  },
  {
   "cell_type": "markdown",
   "id": "94adef96",
   "metadata": {},
   "source": [
    "# Setup Datasource & Batch Request"
   ]
  },
  {
   "cell_type": "markdown",
   "id": "7f80dc56",
   "metadata": {},
   "source": [
    "Pada tahap ini dilakukan proses inisialisasi Datasource dan Data Asset di Great Expectations. Pertama, ditentukan nama unik untuk datasource, yaitu sales__clothes, agar dapat dibedakan dengan datasource lain di dalam proyek. Selanjutnya, dibuat GX DataContext untuk mengelola konfigurasi dan sumber data. Datasource kemudian ditambahkan dengan menggunakan metode add_pandas, karena data akan diakses melalui Pandas DataFrame.\n",
    "\n",
    "Kemudian didefinisikan sebuah data asset dengan nama sales, yang mengambil sumber dari file CSV hasil transformasi (P2M3_nindia_ekasuci_data_transformed.csv). Data asset ini berfungsi sebagai representasi dataset yang akan divalidasi.\n",
    "\n",
    "Tahap terakhir adalah membangun batch request dari data asset tersebut, yang nantinya digunakan Validator untuk menjalankan serangkaian expectation dalam proses validasi data."
   ]
  },
  {
   "cell_type": "code",
   "execution_count": 5,
   "id": "214deb37",
   "metadata": {},
   "outputs": [],
   "source": [
    "#Give a name to a Datasource. This name must be unique between Datasources.\n",
    "datasource_name = 'sales__clothes'\n",
    "\n",
    "# Ambil GX DataContext\n",
    "context = get_context()\n",
    "datasource = context.sources.add_pandas(datasource_name)\n",
    "\n",
    "# Give a name to a data asset\n",
    "asset_name = 'sales'\n",
    "path_to_data = r\"C:\\Users\\User\\New_folder\\P2\\p2-ftds030-hck-m3-NindiaEka\\dags\\P2M3_nindia_ekasuci_data_transformed.csv\"\n",
    "asset = datasource.add_csv_asset(asset_name, filepath_or_buffer=path_to_data)\n",
    "\n",
    "# Build batch request\n",
    "batch_request = asset.build_batch_request()"
   ]
  },
  {
   "cell_type": "markdown",
   "id": "a4fb3394",
   "metadata": {},
   "source": [
    "# Membuat Expectation Suite"
   ]
  },
  {
   "cell_type": "markdown",
   "id": "58ac22e6",
   "metadata": {},
   "source": [
    "Expectation Suite adalah kumpulan aturan atau pernyataan yang dapat diuji untuk memvalidasi kualitas data. Sebuah Expectation Suite menyatukan berbagai Expectation sehingga membentuk gambaran menyeluruh tentang kondisi data. Penamaan Expectation Suite dapat ditentukan secara bebas, asalkan unik di dalam satu proyek. Untuk membuat dan menguji Expectation Suite, digunakan Validator yang berfungsi mengakses batch data. Setiap kali sebuah Expectation dijalankan melalui validator.expect_*, hasil validasinya langsung diterapkan pada data yang diuji."
   ]
  },
  {
   "cell_type": "code",
   "execution_count": 6,
   "id": "96eac82f",
   "metadata": {},
   "outputs": [
    {
     "data": {
      "application/vnd.jupyter.widget-view+json": {
       "model_id": "204db7d478514ab4a96b5ef6505da0ca",
       "version_major": 2,
       "version_minor": 0
      },
      "text/plain": [
       "Calculating Metrics:   0%|          | 0/1 [00:00<?, ?it/s]"
      ]
     },
     "metadata": {},
     "output_type": "display_data"
    },
    {
     "data": {
      "text/html": [
       "<div>\n",
       "<style scoped>\n",
       "    .dataframe tbody tr th:only-of-type {\n",
       "        vertical-align: middle;\n",
       "    }\n",
       "\n",
       "    .dataframe tbody tr th {\n",
       "        vertical-align: top;\n",
       "    }\n",
       "\n",
       "    .dataframe thead th {\n",
       "        text-align: right;\n",
       "    }\n",
       "</style>\n",
       "<table border=\"1\" class=\"dataframe\">\n",
       "  <thead>\n",
       "    <tr style=\"text-align: right;\">\n",
       "      <th></th>\n",
       "      <th>order_id</th>\n",
       "      <th>customer_name</th>\n",
       "      <th>product_category</th>\n",
       "      <th>product_name</th>\n",
       "      <th>units_sold</th>\n",
       "      <th>unit_price</th>\n",
       "      <th>discount</th>\n",
       "      <th>sales_amount</th>\n",
       "      <th>order_date</th>\n",
       "      <th>city</th>\n",
       "      <th>segment</th>\n",
       "      <th>profit</th>\n",
       "      <th>unique_id</th>\n",
       "    </tr>\n",
       "  </thead>\n",
       "  <tbody>\n",
       "    <tr>\n",
       "      <th>0</th>\n",
       "      <td>1000</td>\n",
       "      <td>Brian Thompson</td>\n",
       "      <td>Jeans</td>\n",
       "      <td>Slim Fit Jeans</td>\n",
       "      <td>2.655779</td>\n",
       "      <td>842.000000</td>\n",
       "      <td>0.600000</td>\n",
       "      <td>0.0</td>\n",
       "      <td>2025-02-27</td>\n",
       "      <td>Delhi</td>\n",
       "      <td>B2C</td>\n",
       "      <td>2137.45</td>\n",
       "      <td>1000_Brian Thompson</td>\n",
       "    </tr>\n",
       "    <tr>\n",
       "      <th>1</th>\n",
       "      <td>1001</td>\n",
       "      <td>Shaun Ross</td>\n",
       "      <td>Jeans</td>\n",
       "      <td>Slim Fit Jeans</td>\n",
       "      <td>1.000000</td>\n",
       "      <td>2691.715527</td>\n",
       "      <td>0.646466</td>\n",
       "      <td>0.0</td>\n",
       "      <td>2025-07-15</td>\n",
       "      <td>Ahmedabad</td>\n",
       "      <td>B2C</td>\n",
       "      <td>1588.15</td>\n",
       "      <td>1001_Shaun Ross</td>\n",
       "    </tr>\n",
       "    <tr>\n",
       "      <th>2</th>\n",
       "      <td>1002</td>\n",
       "      <td>Sarah Snyder</td>\n",
       "      <td>Jackets</td>\n",
       "      <td>Puffer Coat</td>\n",
       "      <td>1.000000</td>\n",
       "      <td>637.820000</td>\n",
       "      <td>0.646466</td>\n",
       "      <td>0.0</td>\n",
       "      <td>2025-01-02</td>\n",
       "      <td>Mumbai</td>\n",
       "      <td>B2B</td>\n",
       "      <td>-158.03</td>\n",
       "      <td>1002_Sarah Snyder</td>\n",
       "    </tr>\n",
       "    <tr>\n",
       "      <th>3</th>\n",
       "      <td>1003</td>\n",
       "      <td>Jay Briggs</td>\n",
       "      <td>Shoes</td>\n",
       "      <td>Loafers</td>\n",
       "      <td>2.000000</td>\n",
       "      <td>2962.270000</td>\n",
       "      <td>0.646466</td>\n",
       "      <td>0.0</td>\n",
       "      <td>2025-06-18</td>\n",
       "      <td>bengaluru</td>\n",
       "      <td>B2B</td>\n",
       "      <td>2296.50</td>\n",
       "      <td>1003_Jay Briggs</td>\n",
       "    </tr>\n",
       "    <tr>\n",
       "      <th>4</th>\n",
       "      <td>1005</td>\n",
       "      <td>Samuel Miller</td>\n",
       "      <td>T-Shirts</td>\n",
       "      <td>Crop Top</td>\n",
       "      <td>2.655779</td>\n",
       "      <td>2691.715527</td>\n",
       "      <td>0.646466</td>\n",
       "      <td>0.0</td>\n",
       "      <td>2023-12-05</td>\n",
       "      <td>Mumbai</td>\n",
       "      <td>B2B</td>\n",
       "      <td>1477.73</td>\n",
       "      <td>1005_Samuel Miller</td>\n",
       "    </tr>\n",
       "  </tbody>\n",
       "</table>\n",
       "</div>"
      ],
      "text/plain": [
       "   order_id   customer_name product_category    product_name  units_sold  \\\n",
       "0      1000  Brian Thompson            Jeans  Slim Fit Jeans    2.655779   \n",
       "1      1001      Shaun Ross            Jeans  Slim Fit Jeans    1.000000   \n",
       "2      1002    Sarah Snyder          Jackets     Puffer Coat    1.000000   \n",
       "3      1003      Jay Briggs            Shoes         Loafers    2.000000   \n",
       "4      1005   Samuel Miller         T-Shirts        Crop Top    2.655779   \n",
       "\n",
       "    unit_price  discount  sales_amount  order_date       city segment  \\\n",
       "0   842.000000  0.600000           0.0  2025-02-27      Delhi     B2C   \n",
       "1  2691.715527  0.646466           0.0  2025-07-15  Ahmedabad     B2C   \n",
       "2   637.820000  0.646466           0.0  2025-01-02     Mumbai     B2B   \n",
       "3  2962.270000  0.646466           0.0  2025-06-18  bengaluru     B2B   \n",
       "4  2691.715527  0.646466           0.0  2023-12-05     Mumbai     B2B   \n",
       "\n",
       "    profit            unique_id  \n",
       "0  2137.45  1000_Brian Thompson  \n",
       "1  1588.15      1001_Shaun Ross  \n",
       "2  -158.03    1002_Sarah Snyder  \n",
       "3  2296.50      1003_Jay Briggs  \n",
       "4  1477.73   1005_Samuel Miller  "
      ]
     },
     "execution_count": 6,
     "metadata": {},
     "output_type": "execute_result"
    }
   ],
   "source": [
    "# Creat an expectation suite\n",
    "expectation_suite_name = 'expectation-sales-clothes'\n",
    "context.add_or_update_expectation_suite(expectation_suite_name)\n",
    "\n",
    "# Create a validator using above expectation suite\n",
    "validator = context.get_validator(\n",
    "    batch_request = batch_request,\n",
    "    expectation_suite_name = expectation_suite_name\n",
    ")\n",
    "\n",
    "# Check the validator\n",
    "validator.head()"
   ]
  },
  {
   "cell_type": "markdown",
   "id": "84e89d12",
   "metadata": {},
   "source": [
    "# Expetations"
   ]
  },
  {
   "cell_type": "markdown",
   "id": "1b2f0ed8",
   "metadata": {},
   "source": [
    "## Expetations 1 : to be unique"
   ]
  },
  {
   "cell_type": "markdown",
   "id": "866495fe",
   "metadata": {},
   "source": [
    " <div align=\"justify\">\n",
    " \n",
    "Kolom unique_id dibentuk dari gabungan order_id dan customer_name untuk memastikan setiap transaksi benar-benar unik. Hal ini dilakukan karena pada sistem transaksi e-commerce sering ditemukan kasus di mana satu order_id dapat muncul berulang akibat retur barang atau pencatatan ulang dengan nama pelanggan yang sama. Dengan adanya kolom ini, proses validasi data menjadi lebih akurat karena potensi duplikasi transaksi dapat dihindari. Selain itu, unique_id juga bermanfaat dalam supply chain dan logistik untuk melacak distribusi barang secara spesifik, serta mendukung analisis pelanggan dan forecasting permintaan yang lebih tepat karena data transaksi sudah terjamin keunikannya."
   ]
  },
  {
   "cell_type": "code",
   "execution_count": 7,
   "id": "01c4bfd9",
   "metadata": {},
   "outputs": [
    {
     "data": {
      "application/vnd.jupyter.widget-view+json": {
       "model_id": "900f2bf2712e4f36a086c77d20ee4b77",
       "version_major": 2,
       "version_minor": 0
      },
      "text/plain": [
       "Calculating Metrics:   0%|          | 0/8 [00:00<?, ?it/s]"
      ]
     },
     "metadata": {},
     "output_type": "display_data"
    },
    {
     "data": {
      "text/plain": [
       "{\n",
       "  \"success\": true,\n",
       "  \"result\": {\n",
       "    \"element_count\": 1894,\n",
       "    \"unexpected_count\": 0,\n",
       "    \"unexpected_percent\": 0.0,\n",
       "    \"partial_unexpected_list\": [],\n",
       "    \"missing_count\": 0,\n",
       "    \"missing_percent\": 0.0,\n",
       "    \"unexpected_percent_total\": 0.0,\n",
       "    \"unexpected_percent_nonmissing\": 0.0\n",
       "  },\n",
       "  \"meta\": {},\n",
       "  \"exception_info\": {\n",
       "    \"raised_exception\": false,\n",
       "    \"exception_traceback\": null,\n",
       "    \"exception_message\": null\n",
       "  }\n",
       "}"
      ]
     },
     "execution_count": 7,
     "metadata": {},
     "output_type": "execute_result"
    }
   ],
   "source": [
    "validator.expect_column_values_to_be_unique(\"unique_id\")"
   ]
  },
  {
   "cell_type": "markdown",
   "id": "3546c1e8",
   "metadata": {},
   "source": [
    "## Expetations 2 : Discount harus bernilai 0 - 0.7"
   ]
  },
  {
   "cell_type": "markdown",
   "id": "69d04711",
   "metadata": {},
   "source": [
    " <div align=\"justify\">\n",
    " \n",
    "Diskon harus berupa persentase valid, sehingga tidak boleh negatif atau lebih dari 100%. Sebelum dilakukan proses validasi ternyata pada kolom discount masih memiliki nilai yang tidak masuk akal. Yaitu ada nilai diatas 1(1.25, 1.14 dll). Dimana jika dirubah kedalam persenan yaitu bernilai 100% lebih. Tidak mungkin ada diskon yang bernilai diatas 100%. Dan masih ada banyak diskon yang tidak wajar seperti 0.99, 0.80 dll. Maka dari itu agar nilai pada kolom discount masuk akal dilakukan handling outlier pada preporcess data menggunakan metode clip. Metode ini mempertahankan data tapi mengepress data ke batas maksimumnya. Dimana pada hal ini, batas wajar dalam pemberian diskon adalah 0.7 (70%)."
   ]
  },
  {
   "cell_type": "code",
   "execution_count": 8,
   "id": "9a452b4e",
   "metadata": {},
   "outputs": [
    {
     "data": {
      "application/vnd.jupyter.widget-view+json": {
       "model_id": "7511bf946dbd43ca9fcc9aa12fca305e",
       "version_major": 2,
       "version_minor": 0
      },
      "text/plain": [
       "Calculating Metrics:   0%|          | 0/8 [00:00<?, ?it/s]"
      ]
     },
     "metadata": {},
     "output_type": "display_data"
    },
    {
     "data": {
      "text/plain": [
       "{\n",
       "  \"success\": true,\n",
       "  \"result\": {\n",
       "    \"element_count\": 1894,\n",
       "    \"unexpected_count\": 0,\n",
       "    \"unexpected_percent\": 0.0,\n",
       "    \"partial_unexpected_list\": [],\n",
       "    \"missing_count\": 0,\n",
       "    \"missing_percent\": 0.0,\n",
       "    \"unexpected_percent_total\": 0.0,\n",
       "    \"unexpected_percent_nonmissing\": 0.0\n",
       "  },\n",
       "  \"meta\": {},\n",
       "  \"exception_info\": {\n",
       "    \"raised_exception\": false,\n",
       "    \"exception_traceback\": null,\n",
       "    \"exception_message\": null\n",
       "  }\n",
       "}"
      ]
     },
     "execution_count": 8,
     "metadata": {},
     "output_type": "execute_result"
    }
   ],
   "source": [
    "validator.expect_column_values_to_be_between(\"discount\", min_value=0, max_value=0.7)"
   ]
  },
  {
   "cell_type": "markdown",
   "id": "6f91b4c2",
   "metadata": {},
   "source": [
    "## Expetations 3 : Segment tidak boleh memiliki nilai null"
   ]
  },
  {
   "cell_type": "markdown",
   "id": "9fa53f13",
   "metadata": {},
   "source": [
    "Expectation ini digunakan untuk memvalidasi bahwa kolom segment tidak mengandung nilai kosong (null atau missing value). Apabila terdapat nilai kosong di kolom ini, maka analisis yang berbasis segmentasi pelanggan akan menjadi tidak akurat dan berpotensi menimbulkan kesalahan interpretasi dalam proses pengambilan keputusan, khususnya dalam supply chain maupun strategi pemasaran."
   ]
  },
  {
   "cell_type": "code",
   "execution_count": 9,
   "id": "f1cd3ab8",
   "metadata": {},
   "outputs": [
    {
     "data": {
      "application/vnd.jupyter.widget-view+json": {
       "model_id": "ed1fa777540b45da815209d4a0c69b82",
       "version_major": 2,
       "version_minor": 0
      },
      "text/plain": [
       "Calculating Metrics:   0%|          | 0/6 [00:00<?, ?it/s]"
      ]
     },
     "metadata": {},
     "output_type": "display_data"
    },
    {
     "data": {
      "text/plain": [
       "{\n",
       "  \"success\": true,\n",
       "  \"result\": {\n",
       "    \"element_count\": 1894,\n",
       "    \"unexpected_count\": 0,\n",
       "    \"unexpected_percent\": 0.0,\n",
       "    \"partial_unexpected_list\": []\n",
       "  },\n",
       "  \"meta\": {},\n",
       "  \"exception_info\": {\n",
       "    \"raised_exception\": false,\n",
       "    \"exception_traceback\": null,\n",
       "    \"exception_message\": null\n",
       "  }\n",
       "}"
      ]
     },
     "execution_count": 9,
     "metadata": {},
     "output_type": "execute_result"
    }
   ],
   "source": [
    "validator.expect_column_values_to_not_be_null('segment')"
   ]
  },
  {
   "cell_type": "markdown",
   "id": "2ad14ef6",
   "metadata": {},
   "source": [
    "## Expetations 4 : product_category hanya boleh berisi kategori valid (Jeans, Jackets, Shoes, T-Shirts, Accessories, Dresses)."
   ]
  },
  {
   "cell_type": "markdown",
   "id": "a3fe3ea6",
   "metadata": {},
   "source": [
    "Kolom kategori produk tidak boleh mengandung nilai aneh atau typo. Hanya kategori yang ada di sistem (Jeans, Jackets, Shoes, T-Shirts, Accessories, Dresses)"
   ]
  },
  {
   "cell_type": "code",
   "execution_count": 10,
   "id": "857f216b",
   "metadata": {},
   "outputs": [
    {
     "data": {
      "application/vnd.jupyter.widget-view+json": {
       "model_id": "e1d7021b27a4484480b34bdbe917a7ee",
       "version_major": 2,
       "version_minor": 0
      },
      "text/plain": [
       "Calculating Metrics:   0%|          | 0/8 [00:00<?, ?it/s]"
      ]
     },
     "metadata": {},
     "output_type": "display_data"
    },
    {
     "data": {
      "text/plain": [
       "{\n",
       "  \"success\": true,\n",
       "  \"result\": {\n",
       "    \"element_count\": 1894,\n",
       "    \"unexpected_count\": 0,\n",
       "    \"unexpected_percent\": 0.0,\n",
       "    \"partial_unexpected_list\": [],\n",
       "    \"missing_count\": 0,\n",
       "    \"missing_percent\": 0.0,\n",
       "    \"unexpected_percent_total\": 0.0,\n",
       "    \"unexpected_percent_nonmissing\": 0.0\n",
       "  },\n",
       "  \"meta\": {},\n",
       "  \"exception_info\": {\n",
       "    \"raised_exception\": false,\n",
       "    \"exception_traceback\": null,\n",
       "    \"exception_message\": null\n",
       "  }\n",
       "}"
      ]
     },
     "execution_count": 10,
     "metadata": {},
     "output_type": "execute_result"
    }
   ],
   "source": [
    "validator.expect_column_values_to_be_in_set(\n",
    "    \"product_category\",\n",
    "    ['Jeans', 'Jackets', 'Shoes', 'T-Shirts', 'Accessories', 'Dresses']\n",
    ")"
   ]
  },
  {
   "cell_type": "markdown",
   "id": "74185b85",
   "metadata": {},
   "source": [
    "Hasil pengujian menunjukkan bahwa seluruh data pada kolom segment memenuhi kriteria, dengan total 1.894 baris data tervalidasi dan tidak ditemukan satupun nilai null. Indikator ini ditunjukkan oleh unexpected_count = 0 dan unexpected_percent = 0.0%. Dengan demikian, dapat disimpulkan bahwa dataset memiliki kualitas yang baik dari sisi kelengkapan informasi pada kolom segment."
   ]
  },
  {
   "cell_type": "markdown",
   "id": "3a2bf9c6",
   "metadata": {},
   "source": [
    "## Expectation 5: Validasi tipe data kolom order_date sebagai datetime"
   ]
  },
  {
   "cell_type": "markdown",
   "id": "1f19efa0",
   "metadata": {},
   "source": [
    "Expectation ini digunakan untuk memverifikasi bahwa kolom order_date benar-benar berisi data dengan format tanggal yang valid. Validasi ini penting karena kolom order_date menjadi dasar dalam analisis tren penjualan, forecasting permintaan, serta evaluasi performa supply chain berdasarkan periode waktu tertentu. Jika format tanggal tidak konsisten atau terdapat nilai yang salah, maka hasil analisis berbasis waktu dapat terganggu dan menurunkan akurasi prediksi."
   ]
  },
  {
   "cell_type": "code",
   "execution_count": 11,
   "id": "1038c182",
   "metadata": {},
   "outputs": [
    {
     "data": {
      "application/vnd.jupyter.widget-view+json": {
       "model_id": "1bfb343705ed4a378954fa5751fbf3e4",
       "version_major": 2,
       "version_minor": 0
      },
      "text/plain": [
       "Calculating Metrics:   0%|          | 0/8 [00:00<?, ?it/s]"
      ]
     },
     "metadata": {},
     "output_type": "display_data"
    },
    {
     "data": {
      "text/plain": [
       "{\n",
       "  \"success\": true,\n",
       "  \"result\": {\n",
       "    \"element_count\": 1894,\n",
       "    \"unexpected_count\": 0,\n",
       "    \"unexpected_percent\": 0.0,\n",
       "    \"partial_unexpected_list\": [],\n",
       "    \"missing_count\": 0,\n",
       "    \"missing_percent\": 0.0,\n",
       "    \"unexpected_percent_total\": 0.0,\n",
       "    \"unexpected_percent_nonmissing\": 0.0\n",
       "  },\n",
       "  \"meta\": {},\n",
       "  \"exception_info\": {\n",
       "    \"raised_exception\": false,\n",
       "    \"exception_traceback\": null,\n",
       "    \"exception_message\": null\n",
       "  }\n",
       "}"
      ]
     },
     "execution_count": 11,
     "metadata": {},
     "output_type": "execute_result"
    }
   ],
   "source": [
    "validator.expect_column_values_to_match_strftime_format(\"order_date\", \"%Y-%m-%d\")"
   ]
  },
  {
   "cell_type": "markdown",
   "id": "177e2863",
   "metadata": {},
   "source": [
    "Pengujian dilakukan dengan menggunakan expectation expect_column_values_to_match_strftime_format, di mana setiap nilai pada kolom order_date diperiksa kesesuaiannya dengan pola format tanggal %Y-%m-%d (contoh: 2023-08-15). Hasil pengujian menunjukkan bahwa seluruh 1.894 baris data memenuhi kriteria, dengan nilai unexpected_count = 0 dan unexpected_percent = 0.0%. Tidak ada satupun nilai yang teridentifikasi sebagai error, null, atau tidak sesuai format."
   ]
  },
  {
   "cell_type": "markdown",
   "id": "239827ed",
   "metadata": {},
   "source": [
    "## Expectation 6: Validasi Nilai Distinct pada Kolom Segment"
   ]
  },
  {
   "cell_type": "markdown",
   "id": "53d07275",
   "metadata": {},
   "source": [
    "Validasi dilakukan pada kolom segment menggunakan expectation expect_column_distinct_values_to_equal_set.\n",
    "Expectation ini bertujuan memastikan bahwa seluruh nilai unik dalam kolom tersebut hanya terdiri dari kategori yang sudah didefinisikan, yaitu: B2C dan B2B. \n"
   ]
  },
  {
   "cell_type": "code",
   "execution_count": 12,
   "id": "271fbb63",
   "metadata": {},
   "outputs": [
    {
     "data": {
      "application/vnd.jupyter.widget-view+json": {
       "model_id": "72bdf10c620442aca7f5168afee9ab8b",
       "version_major": 2,
       "version_minor": 0
      },
      "text/plain": [
       "Calculating Metrics:   0%|          | 0/4 [00:00<?, ?it/s]"
      ]
     },
     "metadata": {},
     "output_type": "display_data"
    },
    {
     "data": {
      "text/plain": [
       "{\n",
       "  \"success\": true,\n",
       "  \"result\": {\n",
       "    \"observed_value\": [\n",
       "      \"B2B\",\n",
       "      \"B2C\"\n",
       "    ],\n",
       "    \"details\": {\n",
       "      \"value_counts\": [\n",
       "        {\n",
       "          \"value\": \"B2B\",\n",
       "          \"count\": 630\n",
       "        },\n",
       "        {\n",
       "          \"value\": \"B2C\",\n",
       "          \"count\": 1264\n",
       "        }\n",
       "      ]\n",
       "    }\n",
       "  },\n",
       "  \"meta\": {},\n",
       "  \"exception_info\": {\n",
       "    \"raised_exception\": false,\n",
       "    \"exception_traceback\": null,\n",
       "    \"exception_message\": null\n",
       "  }\n",
       "}"
      ]
     },
     "execution_count": 12,
     "metadata": {},
     "output_type": "execute_result"
    }
   ],
   "source": [
    "validator.expect_column_distinct_values_to_equal_set(\n",
    "    \"segment\",\n",
    "    value_set=[\"B2C\", \"B2B\"]\n",
    ")\n"
   ]
  },
  {
   "cell_type": "markdown",
   "id": "fdfc4b45",
   "metadata": {},
   "source": [
    "Hasil validasi menunjukkan bahwa nilai distinct pada kolom segment memang sesuai dengan set yang diharapkan, sehingga dapat disimpulkan bahwa tidak terdapat kategori di luar daftar yang valid. Dengan demikian, kolom segment memenuhi standar kualitas data yang telah ditentukan."
   ]
  },
  {
   "cell_type": "markdown",
   "id": "c4ed66d1",
   "metadata": {},
   "source": [
    "## Expetations 7 : Profit tidak boleh negatif terlalu besar"
   ]
  },
  {
   "cell_type": "markdown",
   "id": "a1aeb2ea",
   "metadata": {},
   "source": [
    "Expectation ini digunakan untuk memverifikasi bahwa struktur tabel sesuai dengan skema yang telah ditentukan, baik dari sisi nama kolom maupun urutannya. Validasi dilakukan dengan menggunakan expect_table_columns_to_match_ordered_list, di mana daftar kolom yang diharapkan terdiri dari:\n",
    "\n",
    "- order_id\n",
    "\n",
    "- customer_name\n",
    "\n",
    "- product_category\n",
    "\n",
    "- product_name\n",
    "\n",
    "- units_sold\n",
    "\n",
    "- unit_price\n",
    "\n",
    "- discount\n",
    "\n",
    "- sales_amount\n",
    "\n",
    "- order_date"
   ]
  },
  {
   "cell_type": "code",
   "execution_count": 13,
   "id": "8777ae92",
   "metadata": {},
   "outputs": [
    {
     "data": {
      "application/vnd.jupyter.widget-view+json": {
       "model_id": "3826ea9928704732af57554e471f3e70",
       "version_major": 2,
       "version_minor": 0
      },
      "text/plain": [
       "Calculating Metrics:   0%|          | 0/2 [00:00<?, ?it/s]"
      ]
     },
     "metadata": {},
     "output_type": "display_data"
    },
    {
     "data": {
      "text/plain": [
       "{\n",
       "  \"success\": true,\n",
       "  \"result\": {\n",
       "    \"observed_value\": [\n",
       "      \"order_id\",\n",
       "      \"customer_name\",\n",
       "      \"product_category\",\n",
       "      \"product_name\",\n",
       "      \"units_sold\",\n",
       "      \"unit_price\",\n",
       "      \"discount\",\n",
       "      \"sales_amount\",\n",
       "      \"order_date\",\n",
       "      \"city\",\n",
       "      \"segment\",\n",
       "      \"profit\",\n",
       "      \"unique_id\"\n",
       "    ]\n",
       "  },\n",
       "  \"meta\": {},\n",
       "  \"exception_info\": {\n",
       "    \"raised_exception\": false,\n",
       "    \"exception_traceback\": null,\n",
       "    \"exception_message\": null\n",
       "  }\n",
       "}"
      ]
     },
     "execution_count": 13,
     "metadata": {},
     "output_type": "execute_result"
    }
   ],
   "source": [
    "validator.expect_table_columns_to_match_ordered_list(\n",
    "    column_list=[\"order_id\", \"customer_name\", \"product_category\",\t\"product_name\",\t\"units_sold\",\t\"unit_price\",\t\"discount\",\t\"sales_amount\",\t\"order_date\",\t\"city\",\t\"segment\",\t\"profit\",\t\"unique_id\"]\n",
    ")\n"
   ]
  },
  {
   "cell_type": "markdown",
   "id": "857e54d5",
   "metadata": {},
   "source": [
    "Hasil pengujian menunjukkan bahwa seluruh kolom dalam tabel sesuai dengan urutan yang diharapkan (success: true). Dari output yang diperoleh, observed_value sama persis dengan column_list, yang berarti tidak ada kolom yang hilang, berlebih, maupun salah urut."
   ]
  },
  {
   "cell_type": "code",
   "execution_count": 14,
   "id": "0f6d0988",
   "metadata": {},
   "outputs": [],
   "source": [
    "# Save suite ke context\n",
    "validator.save_expectation_suite(discard_failed_expectations=False)"
   ]
  },
  {
   "cell_type": "markdown",
   "id": "dd81e881",
   "metadata": {},
   "source": [
    "# Checkpoints"
   ]
  },
  {
   "cell_type": "markdown",
   "id": "1c499ac4",
   "metadata": {},
   "source": [
    "Checkpoint pada Great Expectations digunakan untuk menjalankan seluruh Expectation Suite terhadap dataset secara otomatis dan terdokumentasi. Pada tahap ini dibuat checkpoint bernama checkpoint_1 yang mengacu pada suite expectation-sales-clothes, lalu dijalankan untuk mengevaluasi semua aturan validasi. "
   ]
  },
  {
   "cell_type": "code",
   "execution_count": 15,
   "id": "2b91126c",
   "metadata": {},
   "outputs": [],
   "source": [
    "# Create a checkpoint\n",
    "\n",
    "checkpoint_1 = context.add_or_update_checkpoint(\n",
    "    name=\"checkpoint_1\",\n",
    "    validator=validator,\n",
    "    expectation_suite_name=\"expectation-sales-clothes\"\n",
    ")"
   ]
  },
  {
   "cell_type": "code",
   "execution_count": 16,
   "id": "d0f21525",
   "metadata": {},
   "outputs": [
    {
     "data": {
      "application/vnd.jupyter.widget-view+json": {
       "model_id": "ccdd917b5e5646cba5e3ccf0a30d8e85",
       "version_major": 2,
       "version_minor": 0
      },
      "text/plain": [
       "Calculating Metrics:   0%|          | 0/37 [00:00<?, ?it/s]"
      ]
     },
     "metadata": {},
     "output_type": "display_data"
    }
   ],
   "source": [
    "# Run checkpoint\n",
    "checkpoint_result = checkpoint_1.run()"
   ]
  },
  {
   "cell_type": "markdown",
   "id": "9762dc1b",
   "metadata": {},
   "source": [
    "Hasilnya menunjukkan bahwa seluruh 37 expectation berhasil dijalankan dan lolos validasi, sehingga dapat disimpulkan bahwa dataset sudah memenuhi standar kualitas yang ditetapkan dan siap digunakan untuk analisis maupun kebutuhan bisnis selanjutnya."
   ]
  }
 ],
 "metadata": {
  "kernelspec": {
   "display_name": "nlp_env",
   "language": "python",
   "name": "python3"
  },
  "language_info": {
   "codemirror_mode": {
    "name": "ipython",
    "version": 3
   },
   "file_extension": ".py",
   "mimetype": "text/x-python",
   "name": "python",
   "nbconvert_exporter": "python",
   "pygments_lexer": "ipython3",
   "version": "3.10.18"
  }
 },
 "nbformat": 4,
 "nbformat_minor": 5
}
